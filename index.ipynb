{
 "cells": [
  {
   "cell_type": "markdown",
   "id": "d64ffdda",
   "metadata": {},
   "source": [
    "<center><h1>India at a Glance</h1></center>\n",
    "\n",
    "- <a href=\"https://ind-states.herokuapp.com/voila/render/ind_states.ipynb\" title=\"States at a Glance\">States at a Glance</a>\n",
    "- <a href=\"https://ind-states.herokuapp.com/voila/render/india_dists.ipynb\" title=\"Districts at a Glance\">Districts at a Glance</a>"
   ]
  }
 ],
 "metadata": {
  "kernelspec": {
   "display_name": "Python 3",
   "language": "python",
   "name": "python3"
  },
  "language_info": {
   "codemirror_mode": {
    "name": "ipython",
    "version": 3
   },
   "file_extension": ".py",
   "mimetype": "text/x-python",
   "name": "python",
   "nbconvert_exporter": "python",
   "pygments_lexer": "ipython3",
   "version": "3.9.4"
  }
 },
 "nbformat": 4,
 "nbformat_minor": 5
}
