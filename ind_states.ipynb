{
 "cells": [
  {
   "cell_type": "markdown",
   "id": "602ab2bd",
   "metadata": {},
   "source": [
    "<center><h1>Covid 19 - Indian States at a Glance</h1></center>\n",
    "\n",
    "<p>Hover over state to update charts.</p>"
   ]
  },
  {
   "cell_type": "code",
   "execution_count": 1,
   "id": "3778e3a7",
   "metadata": {},
   "outputs": [],
   "source": [
    "import pandas as pd\n",
    "import pandas as pd\n",
    "import bqplot as bqp\n",
    "import numpy as np\n",
    "from bqplot.market_map import MarketMap\n",
    "from ipywidgets import Label, HBox, VBox, Layout\n",
    "from bqplot.traits import convert_to_date"
   ]
  },
  {
   "cell_type": "code",
   "execution_count": 2,
   "id": "d1c6e1ff",
   "metadata": {},
   "outputs": [],
   "source": [
    "# Read data from covid19india website\n",
    "def load_data():\n",
    "    url = 'https://api.covid19india.org/csv/latest/state_wise_daily.csv'\n",
    "    data = pd.read_csv(url)\n",
    "    return data"
   ]
  },
  {
   "cell_type": "code",
   "execution_count": 3,
   "id": "a20589e8",
   "metadata": {},
   "outputs": [],
   "source": [
    "data = load_data()\n",
    "# data.head()"
   ]
  },
  {
   "cell_type": "code",
   "execution_count": 4,
   "id": "34318f59",
   "metadata": {},
   "outputs": [],
   "source": [
    "state_codes = ['AN','AP','AR','AS','BR','CH','CT','DN','DD','DL','GA','GJ','HR','HP','JK','JH',\n",
    "          'KA','KL','LA','LD','MP','MH', 'MN','ML','MZ','NL','OR','PY','PB','RJ','SK','TN',\n",
    "          'TG','TR','UP','UT','WB']\n",
    "\n",
    "state_names = ['Andaman & Nicobar Is', 'Andhra Pradesh', 'Arunachal Pradesh',\n",
    "          'Assam', 'Bihar', 'Chandigarh', 'Chattisgarh', 'Dadra & Nagar Haveli',\n",
    "          'Daman & Diu', 'Delhi', 'Goa', 'Gujarat', 'Haryana', 'Himachal Pradesh',\n",
    "          'Jammu & Kashmir', 'Jharkhand', 'Karnataka', 'Kerala', 'Ladakh', 'Lakshadweep',\n",
    "          'Madhya Pradesh', 'Maharashtra', 'Manipur', 'Meghalaya', 'Mizoram', 'Nagaland',\n",
    "          'Odisha', 'Puducherry', 'Punjab', 'Rajasthan', 'Sikkim', 'Tamilnadu', 'Telengana',\n",
    "          'Tripura', 'Uttar Pradesh', 'Uttarakhand', 'West Bengal']\n",
    "\n",
    "state_pop = [380581, 49577103, 1383727,\n",
    "        31205576, 104099452, 1055450, 25545198, 533688,\n",
    "        52076, 16787941, 1458545, 60439692, 25351462, 6864602,\n",
    "        12267032, 32988134, 61095297, 33406061, 274000, 64473,\n",
    "        72626809, 112374333, 2570390, 2966889, 1097206, 1978502,\n",
    "        41974219, 1247953, 27743338, 68548437, 610577, 72147030, 35003674,\n",
    "        3673917, 199812341, 10086292, 91276115]\n",
    "\n",
    "\n",
    "confirmed_df = data[data[\"Status\"]==\"Confirmed\"]\n",
    "recovered_df = data[data[\"Status\"]==\"Recovered\"]\n",
    "deceased_df = data[data[\"Status\"]==\"Deceased\"]\n",
    "\n",
    "sdf = pd.DataFrame(columns=['state', 'ST_CD','population', 'total_cases','total_deaths', 'cpm','dpm', 'gr'])\n",
    "\n",
    "\n",
    "\n",
    "for state_code in state_codes:\n",
    "    idx = state_codes.index(state_code)\n",
    "    state = state_names[idx]\n",
    "    population = state_pop[idx];\n",
    "    total_deaths = deceased_df[state_codes[idx]].cumsum().max()\n",
    "    total_cases = confirmed_df[state_codes[idx]].cumsum().max()\n",
    "    dpm = round(total_deaths * 1e6 / population,2)\n",
    "    cpm = round(total_cases * 1e6 / population,2)\n",
    "\n",
    "    d = deceased_df[state_codes[idx]].cumsum()\n",
    "    ldpm = d * 1e6 / population\n",
    "    delta = ldpm.iloc[-15::].diff()\n",
    "    gr = delta[1::]*100/ldpm[-14::]\n",
    "    gr = round(gr.mean(),2)\n",
    "    prev = round(dpm*0.0666,2)\n",
    "#     prev = dpm/8.472\n",
    "\n",
    "    sdf = sdf.append({'population': population, 'total_cases': total_cases, 'total_deaths': total_deaths, 'cpm': cpm,\n",
    "                      'dpm': dpm, 'state': state, 'ST_CD': state_code, 'gr': gr, 'prev': prev }, ignore_index=True)\n",
    "\n",
    "sdf = sdf.dropna()"
   ]
  },
  {
   "cell_type": "code",
   "execution_count": 5,
   "id": "e0f04b05",
   "metadata": {},
   "outputs": [],
   "source": [
    "# Creating the figure to be displayed as the tooltip\n",
    "\n",
    "sc_x = bqp.DateScale()\n",
    "sc_y = bqp.LinearScale()\n",
    "\n",
    "ax_x = bqp.Axis(scale=sc_x, grid_lines='dashed', label='Date', num_ticks = 4, label_location='end',tick_format='%b %y')\n",
    "ax_y = bqp.Axis(scale=sc_y, orientation='vertical', grid_lines='dashed',\n",
    "            label='Confirmed Cases', label_location='end', tick_format='.2s')\n",
    "\n",
    "line = bqp.Lines(x=[], y=[], scales={'x': sc_x, 'y': sc_y}, colors=['orange'])\n",
    "fig_tooltip = bqp.Figure(marks=[line], axes=[ax_x, ax_y], layout=Layout(width='600px', height='400px'), animation_duration=1000)"
   ]
  },
  {
   "cell_type": "code",
   "execution_count": 6,
   "id": "3d2c6b22",
   "metadata": {},
   "outputs": [],
   "source": [
    "col = bqp.ColorScale(scheme='Reds')\n",
    "ax_c = bqp.ColorAxis(scale=col, label='Cases per million')\n",
    "p = bqp.market_map.MarketMap(names=sdf['ST_CD'],       \n",
    "           ref_data=sdf, \n",
    "           scales={'color': col}, axes=[ax_c],\n",
    "           colors = ['#ccc'], tooltip_fields=['state','cpm'],\n",
    "           freeze_tooltip_location=False,\n",
    "           title = 'Covid-19 - Indian States - Cases per million',\n",
    "           color = sdf['cpm'],\n",
    "           layout=Layout(width='600px', height='400px'))"
   ]
  },
  {
   "cell_type": "code",
   "execution_count": 7,
   "id": "e64301f5",
   "metadata": {},
   "outputs": [],
   "source": [
    "# Update the tooltip chart\n",
    "hovered_symbol = ''\n",
    "def hover_handler(self, content):\n",
    "\n",
    "    global hovered_symbol\n",
    "    symbol = content.get('data', '')\n",
    "    if(symbol != hovered_symbol):\n",
    "        hovered_symbol = symbol\n",
    "        if(confirmed_df.get(hovered_symbol) is not None):\n",
    "            \n",
    "            y1 = confirmed_df[hovered_symbol].values\n",
    "            for i in range(len(y1)):\n",
    "                if y1[i]<0:\n",
    "                    idx = np.hstack([np.arange(i-3,i),np.arange(i+1,1+4)])\n",
    "                    y1[i]=np.mean(y1[idx])\n",
    "\n",
    "            y2 = deceased_df[hovered_symbol].values\n",
    "            for i in range(len(y2)):\n",
    "                if y2[i]<0:\n",
    "                    idx = np.hstack([np.arange(i-3,i),np.arange(i+1,1+4)])\n",
    "                    y2[i]=np.mean(y2[idx])  \n",
    "            \n",
    "            line.x = convert_to_date(confirmed_df['Date'].values)\n",
    "            line.y = y1\n",
    "            fig_tooltip.title = content.get('ref_data', {}).get('state', '')\n",
    "            line2.x = convert_to_date(deceased_df['Date'].values)\n",
    "            line2.y = y2\n",
    "            fig_tooltip2.title = content.get('ref_data', {}).get('state', '')\n",
    "\n",
    "p.on_hover(hover_handler)"
   ]
  },
  {
   "cell_type": "code",
   "execution_count": 8,
   "id": "69293888",
   "metadata": {},
   "outputs": [],
   "source": [
    "# Creating the figure to be displayed as the tooltip\n",
    "\n",
    "sc_x2 = bqp.DateScale()\n",
    "sc_y2 = bqp.LinearScale()\n",
    "\n",
    "ax_x2 = bqp.Axis(scale=sc_x2, grid_lines='dashed', label='Date', num_ticks = 4, label_location='end',tick_format='%b %y')\n",
    "ax_y2 = bqp.Axis(scale=sc_y2, orientation='vertical', grid_lines='dashed',\n",
    "            label='Deaths', label_location='end', tick_format='.2s')\n",
    "\n",
    "line2 = bqp.Lines(x=[], y=[], scales={'x': sc_x2, 'y': sc_y2}, colors=['orange'])\n",
    "fig_tooltip2 = bqp.Figure(marks=[line2], axes=[ax_x2, ax_y2], layout=Layout(width='600px', height='400px'), animation_duration=1000)"
   ]
  },
  {
   "cell_type": "code",
   "execution_count": 9,
   "id": "4bac343d",
   "metadata": {},
   "outputs": [],
   "source": [
    "col = bqp.ColorScale(scheme='Reds')\n",
    "ax_c2 = bqp.ColorAxis(scale=col, label='Deaths per million')\n",
    "p2 = bqp.market_map.MarketMap(names=sdf['ST_CD'],       \n",
    "           ref_data=sdf, \n",
    "           scales={'color': col}, axes=[ax_c2],\n",
    "           colors = ['#ccc'], tooltip_fields=['state','dpm'],\n",
    "           freeze_tooltip_location=False,\n",
    "           title = 'Covid-19 - Indian States - Deaths per million',\n",
    "           color = sdf['dpm'],\n",
    "           layout=Layout(width='600px', height='400px'))"
   ]
  },
  {
   "cell_type": "code",
   "execution_count": 10,
   "id": "e52ddebd",
   "metadata": {},
   "outputs": [],
   "source": [
    "# Update the tooltip chart\n",
    "# hovered_symbol = ''\n",
    "# def hover_handler(self, content):\n",
    "\n",
    "#     global hovered_symbol\n",
    "#     symbol = content.get('data', '')\n",
    "#     if(symbol != hovered_symbol):\n",
    "#         hovered_symbol = symbol\n",
    "#         if(deceased_df.get(hovered_symbol) is not None):\n",
    "#             line2.x = convert_to_date(deceased_df['Date'].values)\n",
    "#             line2.y = deceased_df[hovered_symbol].values\n",
    "#             fig_tooltip2.title = content.get('ref_data', {}).get('state', '')\n",
    "#             line.x = convert_to_date(confirmed_df['Date'].values)\n",
    "#             line.y = confirmed_df[hovered_symbol].values\n",
    "#             fig_tooltip.title = content.get('ref_data', {}).get('state', '')\n",
    "\n",
    "p2.on_hover(hover_handler)"
   ]
  },
  {
   "cell_type": "code",
   "execution_count": 11,
   "id": "a450acb5",
   "metadata": {},
   "outputs": [
    {
     "data": {
      "application/vnd.jupyter.widget-view+json": {
       "model_id": "cf05facc54844b12a5f39d96e9d59692",
       "version_major": 2,
       "version_minor": 0
      },
      "text/plain": [
       "VBox(children=(HBox(children=(MarketMap(axes=[ColorAxis(label='Cases per million', scale=ColorScale(scheme='Re…"
      ]
     },
     "metadata": {},
     "output_type": "display_data"
    }
   ],
   "source": [
    "row1 = HBox([p,fig_tooltip])\n",
    "row2 = HBox([p2,fig_tooltip2])\n",
    "VBox([row1,row2])"
   ]
  },
  {
   "cell_type": "code",
   "execution_count": 12,
   "id": "47c6c0bc",
   "metadata": {},
   "outputs": [],
   "source": [
    "cfr = 100*sdf['dpm']/sdf['cpm']"
   ]
  },
  {
   "cell_type": "code",
   "execution_count": 13,
   "id": "9e3f3fab",
   "metadata": {},
   "outputs": [
    {
     "data": {
      "application/vnd.jupyter.widget-view+json": {
       "model_id": "7010bfedc1fe4651a337619f96bcdf58",
       "version_major": 2,
       "version_minor": 0
      },
      "text/plain": [
       "Figure(animation_duration=1000, axes=[Axis(grid_lines='dashed', label='State', scale=OrdinalScale()), Axis(gri…"
      ]
     },
     "metadata": {},
     "output_type": "display_data"
    }
   ],
   "source": [
    "def_tt = bqp.Tooltip(fields=['x', 'y'], formats = ['','.2f%'], names=['State', 'CFR'])\n",
    "sc_x2 = bqp.OrdinalScale()\n",
    "sc_y2 = bqp.LinearScale()\n",
    "\n",
    "ax_x2 = bqp.Axis(scale=sc_x2, grid_lines='dashed', label='State')\n",
    "ax_y2 = bqp.Axis(scale=sc_y2, orientation='vertical', grid_lines='dashed', label='CFR (%)', tick_format='.2f')\n",
    "\n",
    "scatt = bqp.Scatter(x=sdf['ST_CD'], y=cfr, scales={'x': sc_x2, 'y': sc_y2}, colors=['orange'])\n",
    "cfr_fig = bqp.Figure(marks=[scatt], axes=[ax_x2, ax_y2], layout=Layout(width='1200px', height='600px'),\n",
    "                     title='Case Fatality Rate', tooltip=def_tt, animation_duration=1000)\n",
    "cfr_fig"
   ]
  }
 ],
 "metadata": {
  "kernelspec": {
   "display_name": "Python 3",
   "language": "python",
   "name": "python3"
  },
  "language_info": {
   "codemirror_mode": {
    "name": "ipython",
    "version": 3
   },
   "file_extension": ".py",
   "mimetype": "text/x-python",
   "name": "python",
   "nbconvert_exporter": "python",
   "pygments_lexer": "ipython3",
   "version": "3.9.4"
  }
 },
 "nbformat": 4,
 "nbformat_minor": 5
}
