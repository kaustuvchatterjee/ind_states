{
 "cells": [
  {
   "cell_type": "markdown",
   "id": "2569c8f0",
   "metadata": {},
   "source": [
    "<center><h1>Covid 19 - Indian Districts at a Glance</h1></center>\n",
    "\n",
    "<p>Hover over district to update charts.</p>"
   ]
  },
  {
   "cell_type": "code",
   "execution_count": 1,
   "id": "ffd1af30",
   "metadata": {},
   "outputs": [],
   "source": [
    "import pandas as pd\n",
    "import numpy as np\n",
    "import bqplot as bqp\n",
    "from bqplot.market_map import MarketMap\n",
    "from ipywidgets import Label, HBox, VBox, Layout\n",
    "from bqplot.traits import convert_to_date"
   ]
  },
  {
   "cell_type": "code",
   "execution_count": 2,
   "id": "188cbd94",
   "metadata": {},
   "outputs": [],
   "source": [
    "url = 'https://api.covid19india.org/csv/latest/districts.csv'\n",
    "data = pd.read_csv(url)"
   ]
  },
  {
   "cell_type": "code",
   "execution_count": 3,
   "id": "26fd0d49",
   "metadata": {},
   "outputs": [],
   "source": [
    "cdata = data\n",
    "cdata = cdata.drop(columns=[\"Other\",\"Tested\"])"
   ]
  },
  {
   "cell_type": "code",
   "execution_count": 4,
   "id": "6814fe6e",
   "metadata": {},
   "outputs": [],
   "source": [
    "idx = cdata[(cdata[\"District\"]==\"Unknown\") | (cdata[\"District\"]==\"Others\") | \n",
    "            (cdata[\"District\"]==\"State Pool\") |\n",
    "           (cdata[\"District\"]==\"Foreign Evacuees\") |\n",
    "           (cdata[\"District\"]==\"Other State\") |\n",
    "           (cdata[\"District\"]==\"Italians\") |\n",
    "           (cdata[\"District\"]==\"Airport Quarantine\") |\n",
    "           (cdata[\"District\"]==\"Railway Quarantine\") |\n",
    "           (cdata[\"District\"]==\"Evacuees\")].index\n",
    "cdata.drop(idx, inplace = True)"
   ]
  },
  {
   "cell_type": "code",
   "execution_count": 5,
   "id": "93f3dee5",
   "metadata": {},
   "outputs": [],
   "source": [
    "    popdata = pd.read_csv('distpop.csv')\n",
    "    sdf = pd.DataFrame(columns = [\"state\",\"district\",\"total_cases\",\"total_deaths\",\"growth_rate\",\"cpm\",\"dpm\",'prev',\"population\",\"censuscode\"])\n",
    "    udf = cdata.groupby([\"State\",\"District\"]).size().reset_index()\n",
    "    \n",
    "    for i in range(len(udf)):\n",
    "        df = cdata[(cdata[\"State\"]==udf.iloc[i][\"State\"]) & (cdata[\"District\"]==udf.iloc[i][\"District\"])]\n",
    "        state = df[\"State\"].iloc[0]\n",
    "        district = df[\"District\"].iloc[0]\n",
    "        total_deaths = df[\"Deceased\"].max()\n",
    "        total_cases = df[\"Confirmed\"].max()\n",
    "            \n",
    "        p =  popdata[(popdata[\"State\"]==state) & (popdata[\"District\"]==district)]\n",
    "        if not p.empty:\n",
    "            pop = p[\"Population\"].iloc[0]\n",
    "            censuscode = p['Censuscode'].iloc[0].astype(int)\n",
    "            \n",
    "        dpm = round(total_deaths*1e6/pop,2)\n",
    "        cpm = round(total_cases*1e6/pop,2)\n",
    "        \n",
    "        d = df[\"Deceased\"]\n",
    "        delta = d.diff()\n",
    "        gr = delta[1::]*100/d.iloc[0:len(d)]\n",
    "        gr = gr[-14::]\n",
    "        gr_mean = round(gr.mean(),2)\n",
    "        prev = round(dpm*0.0666,2)\n",
    "        \n",
    "    \n",
    "        \n",
    "        sdf = sdf.append({'state': state, 'district': district, 'total_cases': total_cases,'total_deaths': total_deaths,\n",
    "                         'growth_rate': gr_mean, 'cpm': cpm, \"dpm\": dpm, 'prev': prev, \"population\": pop, \"censuscode\": censuscode},\n",
    "                        ignore_index=True)\n",
    "        \n",
    "    idx = sdf[sdf[\"growth_rate\"]<0].index\n",
    "    sdf.drop(idx, inplace = True)\n",
    "    idx = sdf[sdf[\"total_deaths\"]==0].index\n",
    "    sdf.drop(idx, inplace = True)\n",
    "    sdf = sdf.replace([np.inf, -np.inf],np.nan)\n",
    "    sdf.dropna()\n",
    "    sdf['censuscode'] = sdf['censuscode'].astype(int, errors='ignore')"
   ]
  },
  {
   "cell_type": "code",
   "execution_count": 6,
   "id": "8fd4e3fc",
   "metadata": {},
   "outputs": [],
   "source": [
    "# Cases Timeseries\n",
    "\n",
    "sc_x = bqp.DateScale()\n",
    "sc_y = bqp.LinearScale()\n",
    "\n",
    "ax_x = bqp.Axis(scale=sc_x, grid_lines='dashed', label='Date', num_ticks = 4, label_location='end',tick_format='%b %y')\n",
    "ax_y = bqp.Axis(scale=sc_y, orientation='vertical', grid_lines='dashed',\n",
    "            label='Confirmed Cases', label_location='end', tick_format='.2s')\n",
    "\n",
    "line = bqp.Lines(x=[], y=[], scales={'x': sc_x, 'y': sc_y}, colors=['orange'])\n",
    "fig_tooltip = bqp.Figure(marks=[line], axes=[ax_x, ax_y], layout=Layout(width='600px', height='400px'), animation_duration=1000)"
   ]
  },
  {
   "cell_type": "code",
   "execution_count": 7,
   "id": "c87bdb4d",
   "metadata": {},
   "outputs": [],
   "source": [
    "# Cases Heatmap\n",
    "\n",
    "col = bqp.ColorScale(scheme='Reds')\n",
    "ax_c = bqp.ColorAxis(scale=col, label='Cases per million')\n",
    "p = bqp.market_map.MarketMap(names=sdf['district'], display_text= [''],    \n",
    "           ref_data=sdf, \n",
    "           scales={'color': col}, axes=[ax_c],\n",
    "           colors = ['#ccc'], tooltip_fields=['state','district','cpm'],\n",
    "           groups = sdf['state'], cols=25, row_groups=3,\n",
    "           title = 'Covid-19 - Indian Districts - Cases per million',\n",
    "           color = sdf['cpm'],\n",
    "           layout=Layout(width='600px', height='400px'))"
   ]
  },
  {
   "cell_type": "code",
   "execution_count": 8,
   "id": "3a17f33c",
   "metadata": {},
   "outputs": [],
   "source": [
    "# Update the tooltip chart\n",
    "hovered_symbol = ''\n",
    "def hover_handler(self, content):\n",
    "\n",
    "    global hovered_symbol\n",
    "    symbol = content.get('ref_data', {}).get('district', '')+', '+content.get('ref_data', {}).get('state', '')\n",
    "    if(symbol != hovered_symbol):\n",
    "        st = content.get('ref_data', {}).get('state', '')\n",
    "        dt = content.get('ref_data', {}).get('district', '')\n",
    "\n",
    "        line.x = convert_to_date(data[(data['District']==dt) & (data['State']==st)]['Date'].values)\n",
    "        line.y = data[(data['District']==dt) & (data['State']==st)]['Confirmed'].values\n",
    "        fig_tooltip.title = content.get('ref_data', {}).get('district', '')+', '+content.get('ref_data', {}).get('state', '')\n",
    "        line2.x = convert_to_date(data[(data['District']==dt) & (data['State']==st)]['Date'].values)\n",
    "        line2.y = data[(data['District']==dt) & (data['State']==st)]['Deceased'].values\n",
    "        fig_tooltip2.title = content.get('ref_data', {}).get('district', '')+', '+content.get('ref_data', {}).get('state', '')\n",
    "\n",
    "p.on_hover(hover_handler)"
   ]
  },
  {
   "cell_type": "code",
   "execution_count": 9,
   "id": "992d3cbb",
   "metadata": {},
   "outputs": [],
   "source": [
    "\n",
    "# Creating the figure to be displayed as the tooltip\n",
    "\n",
    "sc_x2 = bqp.DateScale()\n",
    "sc_y2 = bqp.LinearScale()\n",
    "\n",
    "ax_x2 = bqp.Axis(scale=sc_x2, grid_lines='dashed', label='Date', num_ticks = 4, label_location='end',tick_format='%b %y')\n",
    "ax_y2 = bqp.Axis(scale=sc_y2, orientation='vertical', grid_lines='dashed',\n",
    "            label='Deaths', label_location='end', tick_format='.2s')\n",
    "\n",
    "line2 = bqp.Lines(x=[], y=[], scales={'x': sc_x2, 'y': sc_y2}, colors=['orange'])\n",
    "fig_tooltip2 = bqp.Figure(marks=[line2], axes=[ax_x2, ax_y2], layout=Layout(width='600px', height='400px'), animation_duration=1000)"
   ]
  },
  {
   "cell_type": "code",
   "execution_count": 10,
   "id": "8e8f72e2",
   "metadata": {},
   "outputs": [],
   "source": [
    "# Deaths Heatmap\n",
    "\n",
    "col = bqp.ColorScale(scheme='Reds')\n",
    "ax_c2 = bqp.ColorAxis(scale=col, label='Deaths per million')\n",
    "p2 = bqp.market_map.MarketMap(names=sdf['district'], display_text= [''],    \n",
    "           ref_data=sdf, \n",
    "           scales={'color': col}, axes=[ax_c2],\n",
    "           colors = ['#ccc'], tooltip_fields=['state','district','dpm'],\n",
    "           groups = sdf['state'], cols=25, row_groups=3,\n",
    "           title = 'Covid-19 - Indian Districts - Deaths per million',\n",
    "           color = sdf['dpm'],\n",
    "           layout=Layout(width='600px', height='400px'))"
   ]
  },
  {
   "cell_type": "code",
   "execution_count": 11,
   "id": "8bead32f",
   "metadata": {},
   "outputs": [],
   "source": [
    "# Update the tooltip chart\n",
    "# hovered_symbol = ''\n",
    "# def hover_handler(self, content):\n",
    "\n",
    "#     global hovered_symbol\n",
    "#     symbol = content.get('data', '')\n",
    "#     if(symbol != hovered_symbol):\n",
    "#         hovered_symbol = symbol\n",
    "\n",
    "#     if(symbol != hovered_symbol):\n",
    "#         st = content.get('ref_data', {}).get('state', '')\n",
    "#         dt = content.get('ref_data', {}).get('district', '')\n",
    "\n",
    "#         line.x = convert_to_date(data[(data['District']==dt) & (data['State']==st)]['Date'].values)\n",
    "#         line.y = data[(data['District']==dt) & (data['State']==st)]['Confirmed'].values\n",
    "#         fig_tooltip.title = content.get('ref_data', {}).get('district', '')+', '+content.get('ref_data', {}).get('state', '')\n",
    "#         line2.x = convert_to_date(data[(data['District']==dt) & (data['State']==st)]['Date'].values)\n",
    "#         line2.y = data[(data['District']==dt) & (data['State']==st)]['Deceased'].values\n",
    "#         fig_tooltip2.title = content.get('ref_data', {}).get('district', '')+', '+content.get('ref_data', {}).get('state', '')\n",
    "\n",
    "p2.on_hover(hover_handler)"
   ]
  },
  {
   "cell_type": "code",
   "execution_count": 12,
   "id": "a42808de",
   "metadata": {},
   "outputs": [
    {
     "data": {
      "application/vnd.jupyter.widget-view+json": {
       "model_id": "9a1372b53f3a43678937ef7b65ce21af",
       "version_major": 2,
       "version_minor": 0
      },
      "text/plain": [
       "VBox(children=(HBox(children=(MarketMap(axes=[ColorAxis(label='Cases per million', scale=ColorScale(scheme='Re…"
      ]
     },
     "metadata": {},
     "output_type": "display_data"
    }
   ],
   "source": [
    "row1 = HBox([p,fig_tooltip])\n",
    "row2 = HBox([p2,fig_tooltip2])\n",
    "VBox([row1,row2])"
   ]
  }
 ],
 "metadata": {
  "kernelspec": {
   "display_name": "Python 3",
   "language": "python",
   "name": "python3"
  },
  "language_info": {
   "codemirror_mode": {
    "name": "ipython",
    "version": 3
   },
   "file_extension": ".py",
   "mimetype": "text/x-python",
   "name": "python",
   "nbconvert_exporter": "python",
   "pygments_lexer": "ipython3",
   "version": "3.9.4"
  }
 },
 "nbformat": 4,
 "nbformat_minor": 5
}
